{
 "cells": [
  {
   "cell_type": "code",
   "execution_count": 1,
   "metadata": {},
   "outputs": [
    {
     "name": "stdout",
     "output_type": "stream",
     "text": [
      "hello world!\n"
     ]
    }
   ],
   "source": [
    "print(\"hello world!\")"
   ]
  },
  {
   "cell_type": "code",
   "execution_count": 4,
   "metadata": {},
   "outputs": [
    {
     "name": "stdout",
     "output_type": "stream",
     "text": [
      "こんにちは湊敢太郎さん\n"
     ]
    }
   ],
   "source": [
    "a = \"湊敢太郎\"\n",
    "print(f\"こんにちは{a}さん\")"
   ]
  },
  {
   "cell_type": "code",
   "execution_count": 5,
   "metadata": {},
   "outputs": [
    {
     "name": "stdout",
     "output_type": "stream",
     "text": [
      "二つの数値の合計は6.0です\n"
     ]
    }
   ],
   "source": [
    "try:\n",
    "    a=float(input(\"一つ目の数字を入力してください\"))\n",
    "    b=float(input(\"二つ目の数字を入力してください\"))\n",
    "    print(f\"二つの数値の合計は{a+b}です\")\n",
    "except ValueError:\n",
    "    print(\"入力された値が数値ではありません\")"
   ]
  },
  {
   "cell_type": "code",
   "execution_count": 7,
   "metadata": {},
   "outputs": [
    {
     "name": "stdout",
     "output_type": "stream",
     "text": [
      "奇数です\n"
     ]
    }
   ],
   "source": [
    "try:\n",
    "    num = int(input(\"数値を入力してください\"))\n",
    "    if num%2==0:\n",
    "        print(\"偶数です\")\n",
    "    else:\n",
    "        print(\"奇数です\")\n",
    "except ValueError:\n",
    "    print(\"入力された値が数値ではありません\")"
   ]
  },
  {
   "cell_type": "code",
   "execution_count": 9,
   "metadata": {},
   "outputs": [
    {
     "name": "stdout",
     "output_type": "stream",
     "text": [
      "1\n",
      "2\n",
      "3\n",
      "4\n",
      "5\n",
      "6\n",
      "7\n",
      "8\n",
      "9\n",
      "10\n"
     ]
    }
   ],
   "source": [
    "for i in range (10):\n",
    "    print(i+1)\n"
   ]
  },
  {
   "cell_type": "code",
   "execution_count": 15,
   "metadata": {},
   "outputs": [
    {
     "name": "stdout",
     "output_type": "stream",
     "text": [
      "5050\n",
      "5050\n"
     ]
    }
   ],
   "source": [
    "num = 0\n",
    "for i in range(1,101):\n",
    "    num += i\n",
    "print(num)\n",
    "\n",
    "print(sum(range(1,101)))"
   ]
  },
  {
   "cell_type": "code",
   "execution_count": null,
   "metadata": {},
   "outputs": [
    {
     "name": "stdout",
     "output_type": "stream",
     "text": [
      "apple\n",
      "banana\n",
      "orange\n",
      "grape\n",
      "peach\n"
     ]
    }
   ],
   "source": [
    "fruits = [\"apple\", \"banana\", \"orange\", \"grape\", \"peach\"]\n",
    "for fruit in fruits:\n",
    "    print(fruit)"
   ]
  },
  {
   "cell_type": "code",
   "execution_count": 17,
   "metadata": {},
   "outputs": [
    {
     "name": "stdout",
     "output_type": "stream",
     "text": [
      "Tanakaさんは25歳です\n",
      "Nakayamaさんは30歳です\n",
      "suzukiさんは40歳です\n"
     ]
    }
   ],
   "source": [
    "name_dict ={\"Tanaka\": 25,\"Nakayama\": 30,\"suzuki\": 40}\n",
    "for name, age in name_dict.items():\n",
    "    print(f\"{name}さんは{age}歳です\")"
   ]
  },
  {
   "cell_type": "code",
   "execution_count": 18,
   "metadata": {},
   "outputs": [
    {
     "name": "stdout",
     "output_type": "stream",
     "text": [
      "入力された文字列の長さは8です\n",
      "入力された文字列の長さは8です\n"
     ]
    }
   ],
   "source": [
    "word = input(\"文字列を入力してください\")\n",
    "word_len = len(word)\n",
    "print(f\"入力された文字列の長さは{word_len}です\")\n",
    "print(f\"入力された文字列の長さは{len(word)}です\")"
   ]
  },
  {
   "cell_type": "code",
   "execution_count": 19,
   "metadata": {},
   "outputs": [
    {
     "name": "stdout",
     "output_type": "stream",
     "text": [
      "私は26歳の男です\n"
     ]
    }
   ],
   "source": [
    "men_text = \"男です\"\n",
    "womwn_text = \"女です\"\n",
    "age_text = \"私は26歳の\"\n",
    "print(age_text+men_text)"
   ]
  },
  {
   "cell_type": "code",
   "execution_count": 23,
   "metadata": {},
   "outputs": [
    {
     "name": "stdout",
     "output_type": "stream",
     "text": [
      "最大値は3です\n",
      "最大値は3です\n"
     ]
    }
   ],
   "source": [
    "a = int(input(\"一つ目の数字を入力してください\"))\n",
    "b = int(input(\"二つ目の数字を入力してください\"))\n",
    "c = int(input(\"三つ目の数字を入力してください\"))\n",
    "if a > b:\n",
    "    if a > c:\n",
    "        print(f\"最大値は{a}です\")\n",
    "    else:\n",
    "        print(f\"最大値は{c}です\")\n",
    "elif b > c:\n",
    "    print(f\"最大値は{b}です\")\n",
    "else:\n",
    "    print(f\"最大値は{c}です\")\n",
    "\n",
    "print(f\"最大値は{max(a,b,c)}です\")"
   ]
  },
  {
   "cell_type": "code",
   "execution_count": 25,
   "metadata": {},
   "outputs": [
    {
     "name": "stdout",
     "output_type": "stream",
     "text": [
      "成人です\n"
     ]
    }
   ],
   "source": [
    "age = int(input(\"年齢を入力してください：\"))\n",
    "if age >= 18:\n",
    "    print(\"成人です\")\n",
    "else:\n",
    "    print(\"未成年です\")"
   ]
  },
  {
   "cell_type": "code",
   "execution_count": 28,
   "metadata": {},
   "outputs": [
    {
     "name": "stdout",
     "output_type": "stream",
     "text": [
      "負の数です\n"
     ]
    }
   ],
   "source": [
    "num = int(input(\"数値を入力してください\"))\n",
    "if num > 0:\n",
    "    print(\"正の数です\")\n",
    "elif num < 0:\n",
    "    print(\"負の数です\")\n",
    "else:\n",
    "    print(\"ゼロです\")"
   ]
  },
  {
   "cell_type": "code",
   "execution_count": 3,
   "metadata": {},
   "outputs": [
    {
     "name": "stdout",
     "output_type": "stream",
     "text": [
      "不等辺三角形です\n"
     ]
    }
   ],
   "source": [
    "a = int(input(\"a:三角形の一辺の長さを入力してください\"))\n",
    "b = int(input(\"b:三角形の一辺の長さを入力してください\"))\n",
    "c = int(input(\"c:三角形の一辺の長さを入力してください\"))\n",
    "\n",
    "if a + b <= c or a + c <= b or b + c <= a:\n",
    "    print(\"三角形が作れません。\")\n",
    "elif a==b and b==c:\n",
    "    print(\"正三角形です\")\n",
    "elif a==b or b==c or c==a:\n",
    "    print(\"二等辺三角形です\")\n",
    "else:\n",
    "    print(\"不等辺三角形です\")"
   ]
  },
  {
   "cell_type": "code",
   "execution_count": 7,
   "metadata": {},
   "outputs": [
    {
     "name": "stdout",
     "output_type": "stream",
     "text": [
      "2024年は閏年です。\n"
     ]
    }
   ],
   "source": [
    "year = int(input(\"西暦を入力してください\"))\n",
    "if (year % 4 == 0 and year % 100 != 0) or (year % 400 == 0):\n",
    "    print(f\"{year}年は閏年です。\")\n",
    "else:\n",
    "    print(f\"{year}年は閏年ではありません。\")"
   ]
  },
  {
   "cell_type": "code",
   "execution_count": 8,
   "metadata": {},
   "outputs": [
    {
     "name": "stdout",
     "output_type": "stream",
     "text": [
      "回文です\n"
     ]
    }
   ],
   "source": [
    "word = input(\"文章を入力してください：\")\n",
    "word_len = len(word)\n",
    "if word == word[::-1]:\n",
    "    print(\"回文です\")\n",
    "else:\n",
    "    print(\"回文ではありません\")"
   ]
  },
  {
   "cell_type": "code",
   "execution_count": 9,
   "metadata": {},
   "outputs": [
    {
     "name": "stdout",
     "output_type": "stream",
     "text": [
      "肥満度1です\n"
     ]
    }
   ],
   "source": [
    "m =float(input(\"身長を入力してください\"))/100\n",
    "kg =float(input(\"体重を入力してください\"))\n",
    "BMI = kg / m**2\n",
    "if BMI < 18.5:\n",
    "    print(\"痩せ型です\")\n",
    "elif BMI >= 18.5 and BMI < 25:\n",
    "    print(\"普通体型です\")\n",
    "elif BMI >= 25 and BMI < 30:\n",
    "    print(\"肥満度1です\")\n",
    "elif BMI >= 30 and BMI < 35:\n",
    "    print(\"肥満度2です\")\n",
    "elif BMI >= 35 and BMI < 40:\n",
    "    print(\"肥満度3です\")\n",
    "else:\n",
    "    print(\"肥満度4です\")"
   ]
  },
  {
   "cell_type": "code",
   "execution_count": 12,
   "metadata": {},
   "outputs": [
    {
     "name": "stdout",
     "output_type": "stream",
     "text": [
      "1\n",
      "2\n",
      "Fizz\n",
      "4\n",
      "Buzz\n",
      "Fizz\n",
      "7\n",
      "8\n",
      "Fizz\n",
      "Buzz\n",
      "11\n",
      "Fizz\n",
      "13\n",
      "14\n",
      "FizzBuzz\n",
      "16\n",
      "17\n",
      "Fizz\n",
      "19\n",
      "Buzz\n",
      "Fizz\n",
      "22\n",
      "23\n",
      "Fizz\n",
      "Buzz\n",
      "26\n",
      "Fizz\n",
      "28\n",
      "29\n",
      "FizzBuzz\n",
      "31\n",
      "32\n",
      "Fizz\n",
      "34\n",
      "Buzz\n",
      "Fizz\n",
      "37\n",
      "38\n",
      "Fizz\n",
      "Buzz\n",
      "41\n",
      "Fizz\n",
      "43\n",
      "44\n",
      "FizzBuzz\n",
      "46\n",
      "47\n",
      "Fizz\n",
      "49\n",
      "Buzz\n",
      "Fizz\n",
      "52\n",
      "53\n",
      "Fizz\n",
      "Buzz\n",
      "56\n",
      "Fizz\n",
      "58\n",
      "59\n",
      "FizzBuzz\n",
      "61\n",
      "62\n",
      "Fizz\n",
      "64\n",
      "Buzz\n",
      "Fizz\n",
      "67\n",
      "68\n",
      "Fizz\n",
      "Buzz\n",
      "71\n",
      "Fizz\n",
      "73\n",
      "74\n",
      "FizzBuzz\n",
      "76\n",
      "77\n",
      "Fizz\n",
      "79\n",
      "Buzz\n",
      "Fizz\n",
      "82\n",
      "83\n",
      "Fizz\n",
      "Buzz\n",
      "86\n",
      "Fizz\n",
      "88\n",
      "89\n",
      "FizzBuzz\n",
      "91\n",
      "92\n",
      "Fizz\n",
      "94\n",
      "Buzz\n",
      "Fizz\n",
      "97\n",
      "98\n",
      "Fizz\n",
      "Buzz\n"
     ]
    }
   ],
   "source": [
    "for i in range(1,101):\n",
    "    if i%3==0 and i%5==0:\n",
    "        print(\"FizzBuzz\")\n",
    "    elif i%3==0:\n",
    "        print(\"Fizz\")\n",
    "    elif i%5 == 0:\n",
    "        print(\"Buzz\")\n",
    "    else:\n",
    "        print(i)"
   ]
  },
  {
   "cell_type": "code",
   "execution_count": 14,
   "metadata": {},
   "outputs": [
    {
     "name": "stdout",
     "output_type": "stream",
     "text": [
      "無効な入力です\n"
     ]
    }
   ],
   "source": [
    "month = int(input(\"月を入力してください\"))\n",
    "days_in_month = {\n",
    "    1: 31, 2: 28, 3: 31, 4: 30, 5: 31, 6: 30,\n",
    "    7: 31, 8: 31, 9: 30, 10: 31, 11: 30, 12: 31\n",
    "}\n",
    "if month in days_in_month:\n",
    "    print(f\"{month}月の日数は{days_in_month[month]}です\")\n",
    "else:\n",
    "    print(\"無効な入力です\")"
   ]
  },
  {
   "cell_type": "code",
   "execution_count": 23,
   "metadata": {},
   "outputs": [
    {
     "name": "stdout",
     "output_type": "stream",
     "text": [
      "素数です\n"
     ]
    }
   ],
   "source": [
    "num = int(input(\"整数を入力してください\"))\n",
    "flag = 100\n",
    "if num != 1:\n",
    "    for i in range(1,num+1):\n",
    "        if num%i ==0 and i!=1 and i!=num:\n",
    "            flag = 1\n",
    "else:\n",
    "    flag = 1\n",
    "if flag == 1:\n",
    "    print(\"素数ではありません\")\n",
    "else:\n",
    "    print(\"素数です\")\n"
   ]
  },
  {
   "cell_type": "code",
   "execution_count": 25,
   "metadata": {},
   "outputs": [
    {
     "name": "stdout",
     "output_type": "stream",
     "text": [
      "1を2乗したものは1です\n",
      "2を2乗したものは4です\n",
      "3を2乗したものは9です\n",
      "4を2乗したものは16です\n",
      "5を2乗したものは25です\n",
      "6を2乗したものは36です\n",
      "7を2乗したものは49です\n",
      "8を2乗したものは64です\n",
      "9を2乗したものは81です\n",
      "10を2乗したものは100です\n"
     ]
    }
   ],
   "source": [
    "for i in range(1,11):\n",
    "    print(F\"{i}を2乗したものは{i**2}です\")"
   ]
  },
  {
   "cell_type": "code",
   "execution_count": 32,
   "metadata": {},
   "outputs": [
    {
     "name": "stdout",
     "output_type": "stream",
     "text": [
      "[10, 9, 8, 7, 6, 5, 4, 3, 2, 1]\n",
      "[10, 9, 8, 7, 6, 5, 4, 3, 2, 1]\n"
     ]
    }
   ],
   "source": [
    "numbers = [1, 2, 3, 4, 5, 6, 7, 8, 9, 10]\n",
    "reverse_num =[]\n",
    "for i in numbers[::-1]:\n",
    "    reverse_num.append(i)\n",
    "print(reverse_num)\n",
    "\n",
    "print(numbers[::-1])"
   ]
  },
  {
   "cell_type": "code",
   "execution_count": 34,
   "metadata": {},
   "outputs": [
    {
     "name": "stdout",
     "output_type": "stream",
     "text": [
      "3の倍数の合計:1683\n",
      "5の倍数の合計:1050\n"
     ]
    }
   ],
   "source": [
    "num5 = 0\n",
    "num3 = 0\n",
    "for i in range(1,101):\n",
    "    if i%5==0 or i%3==0:\n",
    "        if i%5==0:\n",
    "            num5 += i\n",
    "            if i%3 == 0:\n",
    "                num3 += i\n",
    "        else:\n",
    "            num3 += i\n",
    "print(F\"3の倍数の合計:{num3}\")\n",
    "print(F\"5の倍数の合計:{num5}\")"
   ]
  },
  {
   "cell_type": "code",
   "execution_count": 37,
   "metadata": {},
   "outputs": [
    {
     "name": "stdout",
     "output_type": "stream",
     "text": [
      "[0, 1, 1, 2, 3, 5, 8, 13, 21, 34, 55, 89, 144, 233, 377, 610, 987, 1597, 2584, 4181, 6765, 10946]\n"
     ]
    }
   ],
   "source": [
    "a = 0\n",
    "b = 1\n",
    "Fibonacci = [0,1]\n",
    "for i in range(20):\n",
    "    c = a + b\n",
    "    Fibonacci.append(c)\n",
    "    a = b\n",
    "    b = c\n",
    "print(Fibonacci)\n"
   ]
  },
  {
   "cell_type": "code",
   "execution_count": 40,
   "metadata": {},
   "outputs": [],
   "source": [
    "text = \"\"\n",
    "while text != \"quit\":\n",
    "    text = input(\"テキストを入力してください\")"
   ]
  },
  {
   "cell_type": "code",
   "execution_count": 43,
   "metadata": {},
   "outputs": [
    {
     "name": "stdout",
     "output_type": "stream",
     "text": [
      "最大値：89\n",
      "最小値：10\n"
     ]
    }
   ],
   "source": [
    "numbers = [34, 12, 56, 78, 23, 45, 67, 89, 10]\n",
    "print(F\"最大値：{max(numbers)}\")\n",
    "print(F\"最小値：{min(numbers)}\")"
   ]
  },
  {
   "cell_type": "code",
   "execution_count": 48,
   "metadata": {},
   "outputs": [
    {
     "name": "stdout",
     "output_type": "stream",
     "text": [
      " 1  2  3  4  5  6  7  8  9 \n",
      " 2  4  6  8 10 12 14 16 18 \n",
      " 3  6  9 12 15 18 21 24 27 \n",
      " 4  8 12 16 20 24 28 32 36 \n",
      " 5 10 15 20 25 30 35 40 45 \n",
      " 6 12 18 24 30 36 42 48 54 \n",
      " 7 14 21 28 35 42 49 56 63 \n",
      " 8 16 24 32 40 48 56 64 72 \n",
      " 9 18 27 36 45 54 63 72 81 \n"
     ]
    }
   ],
   "source": [
    "for i in range(1,10):\n",
    "    for j in range(1,10):\n",
    "        print(F\"{i*j:2d}\",end=\" \")\n",
    "    print(\"\")"
   ]
  },
  {
   "cell_type": "code",
   "execution_count": null,
   "metadata": {},
   "outputs": [
    {
     "name": "stdout",
     "output_type": "stream",
     "text": [
      "ループで計算した5の階乗は120です\n",
      "再帰関数で計算した5の階乗は120です\n"
     ]
    }
   ],
   "source": [
    "num = int(input(\"正の整数を入力してください\"))\n",
    "ans = 1\n",
    "\n",
    "for i in range(1,num+1):\n",
    "    ans = ans*i\n",
    "print(F\"ループで計算した{num}の階乗は{ans}です\")\n",
    "\n",
    "def factorial(n):\n",
    "    if n==1 or n==0:\n",
    "        return 1\n",
    "    else:\n",
    "        return n * factorial(n-1)\n",
    "\n",
    "f_ans = factorial(num)\n",
    "print(F\"再帰関数で計算した{num}の階乗は{f_ans}です\")"
   ]
  },
  {
   "cell_type": "code",
   "execution_count": 5,
   "metadata": {},
   "outputs": [
    {
     "name": "stdout",
     "output_type": "stream",
     "text": [
      "50.5\n"
     ]
    }
   ],
   "source": [
    "numbers = [23, 45, 67, 89, 12, 34, 56, 78]\n",
    "mean = sum(numbers)/len(numbers)\n",
    "print(mean)"
   ]
  },
  {
   "cell_type": "code",
   "execution_count": 6,
   "metadata": {},
   "outputs": [
    {
     "name": "stdout",
     "output_type": "stream",
     "text": [
      "{5, 6, 7}\n"
     ]
    }
   ],
   "source": [
    "list1 = [1, 2, 3, 4, 5, 6, 7]\n",
    "list2 = [5, 6, 7, 8, 9, 10]\n",
    "common_elements = set(list1) & set(list2)\n",
    "print(common_elements)"
   ]
  },
  {
   "cell_type": "code",
   "execution_count": 9,
   "metadata": {},
   "outputs": [
    {
     "name": "stdout",
     "output_type": "stream",
     "text": [
      "おえういあ\n"
     ]
    }
   ],
   "source": [
    "word = input(\"文字列を入力してください\")\n",
    "rev_word = word[::-1]\n",
    "print(rev_word)"
   ]
  },
  {
   "cell_type": "code",
   "execution_count": 10,
   "metadata": {},
   "outputs": [
    {
     "name": "stdout",
     "output_type": "stream",
     "text": [
      "3\n"
     ]
    }
   ],
   "source": [
    "boin_list = [\"a\",\"i\",\"u\",\"e\",\"o\"]\n",
    "num = 0\n",
    "input_word = input(\"英語の文字列を入力してください\").lower()\n",
    "for word in input_word:\n",
    "    if set(word) & set(boin_list):\n",
    "        num += 1\n",
    "\n",
    "print(num)"
   ]
  },
  {
   "cell_type": "code",
   "execution_count": 15,
   "metadata": {},
   "outputs": [
    {
     "name": "stdout",
     "output_type": "stream",
     "text": [
      "Banana\n",
      "Banana\n"
     ]
    }
   ],
   "source": [
    "input_word = input(\"英語の文字列を入力してください\").lower()\n",
    "word_2 = input_word\n",
    "input_word = input_word[0].upper() + input_word[1:]\n",
    "print(input_word)\n",
    "print(f\"{word_2.title()}\")"
   ]
  },
  {
   "cell_type": "code",
   "execution_count": 18,
   "metadata": {},
   "outputs": [
    {
     "name": "stdout",
     "output_type": "stream",
     "text": [
      "{'b': 1, 'a': 3, 'n': 2}\n"
     ]
    }
   ],
   "source": [
    "input_word = input(\"文字列を入力してください\")\n",
    "word_count = {}\n",
    "for i in input_word:\n",
    "    if i in word_count:\n",
    "        word_count[i] += 1\n",
    "    else:\n",
    "        word_count[i] = 1\n",
    "\n",
    "print(word_count)\n"
   ]
  },
  {
   "cell_type": "code",
   "execution_count": null,
   "metadata": {},
   "outputs": [],
   "source": []
  }
 ],
 "metadata": {
  "kernelspec": {
   "display_name": "python-knocks",
   "language": "python",
   "name": "python3"
  },
  "language_info": {
   "codemirror_mode": {
    "name": "ipython",
    "version": 3
   },
   "file_extension": ".py",
   "mimetype": "text/x-python",
   "name": "python",
   "nbconvert_exporter": "python",
   "pygments_lexer": "ipython3",
   "version": "3.12.9"
  }
 },
 "nbformat": 4,
 "nbformat_minor": 2
}
